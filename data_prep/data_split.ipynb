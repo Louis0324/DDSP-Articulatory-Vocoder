{
 "cells": [
  {
   "cell_type": "code",
   "execution_count": null,
   "metadata": {},
   "outputs": [],
   "source": [
    "import os\n",
    "import json\n",
    "import random"
   ]
  },
  {
   "cell_type": "code",
   "execution_count": null,
   "metadata": {},
   "outputs": [],
   "source": [
    "data_folder_name = _"
   ]
  },
  {
   "cell_type": "code",
   "execution_count": null,
   "metadata": {},
   "outputs": [],
   "source": [
    "# use the block to confirm that the ema and wav files are 1:1\n",
    "def get_filenames_without_extension(directory):\n",
    "    return set(os.path.splitext(file)[0] for file in os.listdir(directory))\n",
    "\n",
    "wav_dir = _\n",
    "ema_dir = _\n",
    "wav_files = get_filenames_without_extension(wav_dir)\n",
    "ema_files = get_filenames_without_extension(ema_dir)\n",
    "\n",
    "# Files in wav not in ema\n",
    "print(\"Files in wav but not in ema:\", wav_files - ema_files)\n",
    "\n",
    "# Files in ema but not in wav\n",
    "print(\"Files in ema but not in wav:\", ema_files - wav_files)"
   ]
  },
  {
   "cell_type": "code",
   "execution_count": null,
   "metadata": {},
   "outputs": [],
   "source": [
    "def get_filenames_without_extension(directory):\n",
    "    return [os.path.splitext(file)[0] for file in os.listdir(directory)]\n",
    "\n",
    "def split(data_folder_name):\n",
    "    # Get all file names (from either wav or ema dir)\n",
    "    all_files_dir = _\n",
    "    all_files = get_filenames_without_extension(all_files_dir)\n",
    "\n",
    "    # Shuffle the files\n",
    "    random.shuffle(all_files)\n",
    "\n",
    "    val_frac = .05\n",
    "    test_frac = .05\n",
    "\n",
    "    # Calculate the sizes of the splits\n",
    "    total_files = len(all_files)\n",
    "    val_size = int(total_files * val_frac)\n",
    "    test_size = int(total_files * test_frac)\n",
    "\n",
    "    # Split the files\n",
    "    val_files = all_files[:val_size]\n",
    "    test_files = all_files[val_size:val_size + test_size]\n",
    "    train_files = all_files[val_size + test_size:]\n",
    "\n",
    "    # Save the splits to json files\n",
    "    train_file_name = os.path.join(data_folder_name, \"train.json\")\n",
    "    with open(train_file_name, 'w') as f:\n",
    "        json.dump(sorted(train_files), f)\n",
    "\n",
    "    val_file_name = os.path.join(data_folder_name, \"val.json\")\n",
    "    with open(val_file_name, 'w') as f:\n",
    "        json.dump(sorted(val_files), f)\n",
    "\n",
    "    test_file_name = os.path.join(data_folder_name, \"test.json\")\n",
    "    with open(test_file_name, 'w') as f:\n",
    "        json.dump(sorted(test_files), f)"
   ]
  },
  {
   "cell_type": "code",
   "execution_count": null,
   "metadata": {},
   "outputs": [],
   "source": [
    "file_dir = _\n",
    "split(file_dir)"
   ]
  },
  {
   "cell_type": "code",
   "execution_count": null,
   "metadata": {},
   "outputs": [],
   "source": [
    "# check that duplicate files don't exist, and that no files are left over\n",
    "with open(train_file_name, 'r') as f:\n",
    "    train_files = json.load(f)\n",
    "\n",
    "with open(val_file_name, 'r') as f:\n",
    "    val_files = json.load(f)\n",
    "\n",
    "with open(test_file_name, 'r') as f:\n",
    "    test_files = json.load(f)\n",
    "\n",
    "all_used_files = train_files + val_files + test_files\n",
    "\n",
    "if len(all_used_files) != len(set(all_used_files)):\n",
    "    raise ValueError(\"There are duplicate file names in the splits\")\n",
    "\n",
    "if len(all_used_files) != total_files:\n",
    "    raise ValueError(\"Not all files are used in the splits\")"
   ]
  }
 ],
 "metadata": {
  "kernelspec": {
   "display_name": "ddsp",
   "language": "python",
   "name": "python3"
  },
  "language_info": {
   "codemirror_mode": {
    "name": "ipython",
    "version": 3
   },
   "file_extension": ".py",
   "mimetype": "text/x-python",
   "name": "python",
   "nbconvert_exporter": "python",
   "pygments_lexer": "ipython3",
   "version": "3.11.7"
  }
 },
 "nbformat": 4,
 "nbformat_minor": 2
}
